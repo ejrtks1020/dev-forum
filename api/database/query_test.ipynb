{
 "cells": [
  {
   "cell_type": "code",
   "execution_count": 1,
   "metadata": {},
   "outputs": [
    {
     "name": "stderr",
     "output_type": "stream",
     "text": [
      "/var/folders/wh/4lksk7f14fqg8qw3zy118m9w0000gn/T/ipykernel_68580/1613305048.py:12: MovedIn20Warning: Deprecated API features detected! These feature(s) are not compatible with SQLAlchemy 2.0. To prevent incompatible upgrades prior to updating applications, ensure requirements files are pinned to \"sqlalchemy<2.0\". Set environment variable SQLALCHEMY_WARN_20=1 to show all deprecation warnings.  Set environment variable SQLALCHEMY_SILENCE_UBER_WARNING=1 to silence this message. (Background on SQLAlchemy 2.0 at: https://sqlalche.me/e/b8d9)\n",
      "  Base = declarative_base()\n"
     ]
    }
   ],
   "source": [
    "from sqlalchemy import create_engine, MetaData\n",
    "from sqlalchemy.orm import sessionmaker\n",
    "from sqlalchemy.ext.declarative import declarative_base\n",
    "\n",
    "SQLALCHEMY_DATABASE_URL = \"sqlite:///./myapi.db\"\n",
    "\n",
    "engine = create_engine(\n",
    "    SQLALCHEMY_DATABASE_URL, connect_args={\"check_same_thread\": False}\n",
    ")\n",
    "SessionLocal = sessionmaker(autocommit=False, autoflush=False, bind=engine)\n",
    "\n",
    "Base = declarative_base()\n",
    "\n",
    "naming_convention = {\n",
    "    \"ix\": 'ix_%(column_0_label)s',\n",
    "    \"uq\": \"uq_%(table_name)s_%(column_0_name)s\",\n",
    "    \"ck\": \"ck_%(table_name)s_%(column_0_name)s\",\n",
    "    \"fk\": \"fk_%(table_name)s_%(column_0_name)s_%(referred_table_name)s\",\n",
    "    \"pk\": \"pk_%(table_name)s\"\n",
    "}\n",
    "Base.metadata = MetaData(naming_convention=naming_convention)"
   ]
  },
  {
   "cell_type": "code",
   "execution_count": 2,
   "metadata": {},
   "outputs": [],
   "source": [
    "from sqlalchemy import Column, Integer, String, Text, DateTime, ForeignKey, Table\n",
    "from sqlalchemy.orm import relationship\n",
    "\n",
    "question_voter = Table(\n",
    "    'question_voter',\n",
    "    Base.metadata,\n",
    "    Column('user_id', Integer, ForeignKey('user.id'), primary_key=True),\n",
    "    Column('question_id', Integer, ForeignKey('question.id'), primary_key=True)\n",
    ")\n",
    "\n",
    "answer_voter = Table(\n",
    "    'answer_voter',\n",
    "    Base.metadata,\n",
    "    Column('user_id', Integer, ForeignKey('user.id'), primary_key=True),\n",
    "    Column('answer_id', Integer, ForeignKey('answer.id'), primary_key=True)\n",
    "    \n",
    ")\n",
    "\n",
    "class Question(Base):\n",
    "    __tablename__ = \"question\"\n",
    "    \n",
    "    id = Column(Integer, primary_key=True)\n",
    "    subject = Column(String, nullable=False)\n",
    "    content = Column(Text, nullable=False)\n",
    "    create_date = Column(DateTime, nullable=False)\n",
    "    user_id = Column(Integer, ForeignKey('user.id'), nullable=True)\n",
    "    user = relationship(\"User\", backref=\"question_users\")\n",
    "    modify_date = Column(DateTime, nullable=True)\n",
    "    voter = relationship('User', secondary=question_voter, backref='question_voters')\n",
    "\n",
    "class Answer(Base):\n",
    "    __tablename__ = \"answer\"\n",
    "\n",
    "    id = Column(Integer, primary_key=True)\n",
    "    content = Column(Text, nullable=False)\n",
    "    create_date = Column(DateTime, nullable=False)\n",
    "    question_id = Column(Integer, ForeignKey(\"question.id\"))\n",
    "    question = relationship(\"Question\", backref=\"answers\")\n",
    "    user_id = Column(Integer, ForeignKey('user.id'), nullable=True)\n",
    "    user = relationship(\"User\", backref=\"answer_users\")\n",
    "    modify_date = Column(DateTime, nullable=True)\n",
    "    voter = relationship('User', secondary=answer_voter, backref='answer_voters')\n",
    "\n",
    "class User(Base):\n",
    "    __tablename__ = \"user\"\n",
    "    \n",
    "    id = Column(Integer, primary_key=True)\n",
    "    username = Column(String, unique=True, nullable=False)\n",
    "    password = Column(String, nullable=False)\n",
    "    email = Column(String, unique=True, nullable=False)"
   ]
  },
  {
   "cell_type": "code",
   "execution_count": 4,
   "metadata": {},
   "outputs": [],
   "source": [
    "db = SessionLocal()"
   ]
  },
  {
   "cell_type": "code",
   "execution_count": 4,
   "metadata": {},
   "outputs": [],
   "source": [
    "from datetime import datetime"
   ]
  },
  {
   "cell_type": "code",
   "execution_count": 16,
   "metadata": {},
   "outputs": [],
   "source": [
    "q = Question(subject='pybo가 무엇인가요?', content='pybo에 대해서 알고 싶습니다.', create_date=datetime.now())\n",
    "\n",
    "db.add(q)\n",
    "db.commit()"
   ]
  },
  {
   "cell_type": "code",
   "execution_count": null,
   "metadata": {},
   "outputs": [],
   "source": [
    "q.id"
   ]
  },
  {
   "cell_type": "code",
   "execution_count": 17,
   "metadata": {},
   "outputs": [],
   "source": [
    "\n",
    "q = Question(subject='FastAPI 모델 질문입니다.', content='id는 자동으로 생성되나요?', create_date=datetime.now())\n",
    "db.add(q)\n",
    "db.commit()\n"
   ]
  },
  {
   "cell_type": "code",
   "execution_count": 11,
   "metadata": {},
   "outputs": [],
   "source": [
    "for q in db.query(Answer).all():\n",
    "    db.delete(q)\n",
    "    db.commit()"
   ]
  },
  {
   "cell_type": "code",
   "execution_count": 5,
   "metadata": {},
   "outputs": [
    {
     "data": {
      "text/plain": [
       "[<__main__.Answer at 0x11c614e20>,\n",
       " <__main__.Answer at 0x11c614100>,\n",
       " <__main__.Answer at 0x11c614190>,\n",
       " <__main__.Answer at 0x11c6141f0>,\n",
       " <__main__.Answer at 0x11c614250>,\n",
       " <__main__.Answer at 0x11c6142b0>,\n",
       " <__main__.Answer at 0x11c614310>,\n",
       " <__main__.Answer at 0x11c614370>,\n",
       " <__main__.Answer at 0x11c6143d0>,\n",
       " <__main__.Answer at 0x11c614430>,\n",
       " <__main__.Answer at 0x11c6144c0>]"
      ]
     },
     "execution_count": 5,
     "metadata": {},
     "output_type": "execute_result"
    }
   ],
   "source": [
    "db.query(Answer).all()"
   ]
  },
  {
   "cell_type": "code",
   "execution_count": 6,
   "metadata": {},
   "outputs": [
    {
     "data": {
      "text/plain": [
       "[<__main__.Question at 0x11c650370>,\n",
       " <__main__.Question at 0x11c674250>,\n",
       " <__main__.Question at 0x11c66ef40>,\n",
       " <__main__.Question at 0x11c66e730>,\n",
       " <__main__.Question at 0x11c6682b0>,\n",
       " <__main__.Question at 0x11c655dc0>,\n",
       " <__main__.Question at 0x11c640970>,\n",
       " <__main__.Question at 0x11c45d670>,\n",
       " <__main__.Question at 0x11c45d7f0>,\n",
       " <__main__.Question at 0x11c45d760>,\n",
       " <__main__.Question at 0x11c45da60>,\n",
       " <__main__.Question at 0x11c45d430>,\n",
       " <__main__.Question at 0x11c45d460>,\n",
       " <__main__.Question at 0x11c45dc10>,\n",
       " <__main__.Question at 0x11c45d7c0>,\n",
       " <__main__.Question at 0x11c44b490>,\n",
       " <__main__.Question at 0x1078fdfa0>,\n",
       " <__main__.Question at 0x1078f8550>,\n",
       " <__main__.Question at 0x1078f8e50>,\n",
       " <__main__.Question at 0x11c733700>,\n",
       " <__main__.Question at 0x11c71cf40>,\n",
       " <__main__.Question at 0x11c7fb820>,\n",
       " <__main__.Question at 0x11c7a6ca0>,\n",
       " <__main__.Question at 0x11c778340>,\n",
       " <__main__.Question at 0x11c77d7c0>,\n",
       " <__main__.Question at 0x11c78e9a0>,\n",
       " <__main__.Question at 0x11c590400>,\n",
       " <__main__.Question at 0x11c829f10>,\n",
       " <__main__.Question at 0x11c59d880>,\n",
       " <__main__.Question at 0x11c59dee0>,\n",
       " <__main__.Question at 0x11c69c880>,\n",
       " <__main__.Question at 0x11c69c8e0>,\n",
       " <__main__.Question at 0x11c69c940>,\n",
       " <__main__.Question at 0x11c69c9a0>,\n",
       " <__main__.Question at 0x11c69ca00>,\n",
       " <__main__.Question at 0x11c69ca60>,\n",
       " <__main__.Question at 0x11c69cac0>,\n",
       " <__main__.Question at 0x11c69cb50>,\n",
       " <__main__.Question at 0x11c69cbb0>,\n",
       " <__main__.Question at 0x11c69cc10>,\n",
       " <__main__.Question at 0x11c69cc70>,\n",
       " <__main__.Question at 0x11c69ccd0>,\n",
       " <__main__.Question at 0x11c69cd30>,\n",
       " <__main__.Question at 0x11c69c7f0>,\n",
       " <__main__.Question at 0x11c69c790>,\n",
       " <__main__.Question at 0x11c69c730>,\n",
       " <__main__.Question at 0x11c69c6d0>,\n",
       " <__main__.Question at 0x11c69c670>,\n",
       " <__main__.Question at 0x11c69c610>,\n",
       " <__main__.Question at 0x11c69c5b0>,\n",
       " <__main__.Question at 0x11c69c550>,\n",
       " <__main__.Question at 0x11c69c4f0>,\n",
       " <__main__.Question at 0x11c69c490>,\n",
       " <__main__.Question at 0x11c69c430>,\n",
       " <__main__.Question at 0x11c69c3d0>,\n",
       " <__main__.Question at 0x11c69c370>,\n",
       " <__main__.Question at 0x11c69c310>,\n",
       " <__main__.Question at 0x11c69c2b0>,\n",
       " <__main__.Question at 0x11c69c250>,\n",
       " <__main__.Question at 0x11c69c1f0>,\n",
       " <__main__.Question at 0x11c69c190>,\n",
       " <__main__.Question at 0x11c69c130>,\n",
       " <__main__.Question at 0x11c69c0d0>,\n",
       " <__main__.Question at 0x11c69c070>,\n",
       " <__main__.Question at 0x11c69cd60>,\n",
       " <__main__.Question at 0x11c69cdc0>,\n",
       " <__main__.Question at 0x11c69ce20>,\n",
       " <__main__.Question at 0x11c69ce80>,\n",
       " <__main__.Question at 0x11c69cee0>,\n",
       " <__main__.Question at 0x11c69cf40>,\n",
       " <__main__.Question at 0x11c69cfa0>,\n",
       " <__main__.Question at 0x11c69cfd0>,\n",
       " <__main__.Question at 0x11c6af040>,\n",
       " <__main__.Question at 0x11c6af0a0>,\n",
       " <__main__.Question at 0x11c6af100>,\n",
       " <__main__.Question at 0x11c6af160>,\n",
       " <__main__.Question at 0x11c6af1c0>,\n",
       " <__main__.Question at 0x11c6af220>,\n",
       " <__main__.Question at 0x11c6af280>,\n",
       " <__main__.Question at 0x11c6af2e0>,\n",
       " <__main__.Question at 0x11c6af340>,\n",
       " <__main__.Question at 0x11c6af3a0>,\n",
       " <__main__.Question at 0x11c6af400>,\n",
       " <__main__.Question at 0x11c6af460>,\n",
       " <__main__.Question at 0x11c6af4c0>,\n",
       " <__main__.Question at 0x11c6af520>,\n",
       " <__main__.Question at 0x11c6af580>,\n",
       " <__main__.Question at 0x11c6af5e0>,\n",
       " <__main__.Question at 0x11c6af640>,\n",
       " <__main__.Question at 0x11c6af6a0>,\n",
       " <__main__.Question at 0x11c6af700>,\n",
       " <__main__.Question at 0x11c6af760>,\n",
       " <__main__.Question at 0x11c6af7c0>,\n",
       " <__main__.Question at 0x11c6af820>,\n",
       " <__main__.Question at 0x11c6af880>,\n",
       " <__main__.Question at 0x11c6af8e0>,\n",
       " <__main__.Question at 0x11c6af940>,\n",
       " <__main__.Question at 0x11c6af970>,\n",
       " <__main__.Question at 0x11c839a00>,\n",
       " <__main__.Question at 0x11c839b80>,\n",
       " <__main__.Question at 0x11c839100>,\n",
       " <__main__.Question at 0x11c839f10>,\n",
       " <__main__.Question at 0x11c839fa0>,\n",
       " <__main__.Question at 0x11c839fd0>,\n",
       " <__main__.Question at 0x11c9810a0>,\n",
       " <__main__.Question at 0x11c981100>,\n",
       " <__main__.Question at 0x11c981160>,\n",
       " <__main__.Question at 0x11c9811c0>,\n",
       " <__main__.Question at 0x11c981220>,\n",
       " <__main__.Question at 0x11c981280>,\n",
       " <__main__.Question at 0x11c9812e0>,\n",
       " <__main__.Question at 0x11c981340>,\n",
       " <__main__.Question at 0x11c9813a0>,\n",
       " <__main__.Question at 0x11c981400>,\n",
       " <__main__.Question at 0x11c981460>,\n",
       " <__main__.Question at 0x11c9814c0>,\n",
       " <__main__.Question at 0x11c981520>,\n",
       " <__main__.Question at 0x11c981580>,\n",
       " <__main__.Question at 0x11c9815e0>,\n",
       " <__main__.Question at 0x11c981640>,\n",
       " <__main__.Question at 0x11c9816a0>,\n",
       " <__main__.Question at 0x11c981700>,\n",
       " <__main__.Question at 0x11c981760>,\n",
       " <__main__.Question at 0x11c9817c0>,\n",
       " <__main__.Question at 0x11c981820>,\n",
       " <__main__.Question at 0x11c981880>,\n",
       " <__main__.Question at 0x11c9818e0>,\n",
       " <__main__.Question at 0x11c981940>,\n",
       " <__main__.Question at 0x11c9819a0>,\n",
       " <__main__.Question at 0x11c981a00>,\n",
       " <__main__.Question at 0x11c981a60>,\n",
       " <__main__.Question at 0x11c981ac0>,\n",
       " <__main__.Question at 0x11c981b20>,\n",
       " <__main__.Question at 0x11c981b80>,\n",
       " <__main__.Question at 0x11c981be0>,\n",
       " <__main__.Question at 0x11c981c40>,\n",
       " <__main__.Question at 0x11c981ca0>,\n",
       " <__main__.Question at 0x11c981d00>,\n",
       " <__main__.Question at 0x11c981d60>,\n",
       " <__main__.Question at 0x11c981dc0>,\n",
       " <__main__.Question at 0x11c981e20>,\n",
       " <__main__.Question at 0x11c981e80>,\n",
       " <__main__.Question at 0x11c981ee0>,\n",
       " <__main__.Question at 0x11c981f40>,\n",
       " <__main__.Question at 0x11c981fa0>,\n",
       " <__main__.Question at 0x11c981fd0>,\n",
       " <__main__.Question at 0x11c98b0a0>,\n",
       " <__main__.Question at 0x11c98b100>,\n",
       " <__main__.Question at 0x11c98b160>,\n",
       " <__main__.Question at 0x11c98b1c0>,\n",
       " <__main__.Question at 0x11c98b220>,\n",
       " <__main__.Question at 0x11c98b280>,\n",
       " <__main__.Question at 0x11c98b2e0>,\n",
       " <__main__.Question at 0x11c98b340>,\n",
       " <__main__.Question at 0x11c98b3a0>,\n",
       " <__main__.Question at 0x11c98b400>,\n",
       " <__main__.Question at 0x11c98b460>,\n",
       " <__main__.Question at 0x11c98b4c0>,\n",
       " <__main__.Question at 0x11c98b520>,\n",
       " <__main__.Question at 0x11c98b580>,\n",
       " <__main__.Question at 0x11c98b5e0>,\n",
       " <__main__.Question at 0x11c98b640>,\n",
       " <__main__.Question at 0x11c98b6a0>,\n",
       " <__main__.Question at 0x11c98b700>,\n",
       " <__main__.Question at 0x11c98b760>,\n",
       " <__main__.Question at 0x11c98b7c0>,\n",
       " <__main__.Question at 0x11c98b820>,\n",
       " <__main__.Question at 0x11c98b880>,\n",
       " <__main__.Question at 0x11c98b8e0>,\n",
       " <__main__.Question at 0x11c98b940>,\n",
       " <__main__.Question at 0x11c98b9a0>,\n",
       " <__main__.Question at 0x11c98ba00>,\n",
       " <__main__.Question at 0x11c98ba60>,\n",
       " <__main__.Question at 0x11c98bac0>,\n",
       " <__main__.Question at 0x11c98bb20>,\n",
       " <__main__.Question at 0x11c98bb80>,\n",
       " <__main__.Question at 0x11c98bbe0>,\n",
       " <__main__.Question at 0x11c98bc40>,\n",
       " <__main__.Question at 0x11c98bca0>,\n",
       " <__main__.Question at 0x11c98bd00>,\n",
       " <__main__.Question at 0x11c98bd60>,\n",
       " <__main__.Question at 0x11c98bdc0>,\n",
       " <__main__.Question at 0x11c98be20>,\n",
       " <__main__.Question at 0x11c98be80>,\n",
       " <__main__.Question at 0x11c98bee0>,\n",
       " <__main__.Question at 0x11c98bf40>,\n",
       " <__main__.Question at 0x11c98bfa0>,\n",
       " <__main__.Question at 0x11c98bfd0>,\n",
       " <__main__.Question at 0x11c9960a0>,\n",
       " <__main__.Question at 0x11c996100>,\n",
       " <__main__.Question at 0x11c996160>,\n",
       " <__main__.Question at 0x11c9961c0>,\n",
       " <__main__.Question at 0x11c996220>,\n",
       " <__main__.Question at 0x11c996280>,\n",
       " <__main__.Question at 0x11c9962e0>,\n",
       " <__main__.Question at 0x11c996340>,\n",
       " <__main__.Question at 0x11c9963a0>,\n",
       " <__main__.Question at 0x11c996400>,\n",
       " <__main__.Question at 0x11c996460>,\n",
       " <__main__.Question at 0x11c9964c0>,\n",
       " <__main__.Question at 0x11c996520>,\n",
       " <__main__.Question at 0x11c996580>,\n",
       " <__main__.Question at 0x11c9965e0>,\n",
       " <__main__.Question at 0x11c996640>,\n",
       " <__main__.Question at 0x11c9966a0>,\n",
       " <__main__.Question at 0x11c996700>,\n",
       " <__main__.Question at 0x11c996760>,\n",
       " <__main__.Question at 0x11c9967c0>,\n",
       " <__main__.Question at 0x11c996820>,\n",
       " <__main__.Question at 0x11c996880>,\n",
       " <__main__.Question at 0x11c9968e0>,\n",
       " <__main__.Question at 0x11c996940>,\n",
       " <__main__.Question at 0x11c9969a0>,\n",
       " <__main__.Question at 0x11c996a00>,\n",
       " <__main__.Question at 0x11c996a60>,\n",
       " <__main__.Question at 0x11c996ac0>,\n",
       " <__main__.Question at 0x11c996b20>,\n",
       " <__main__.Question at 0x11c996b80>,\n",
       " <__main__.Question at 0x11c996be0>,\n",
       " <__main__.Question at 0x11c996c40>,\n",
       " <__main__.Question at 0x11c996c70>,\n",
       " <__main__.Question at 0x11c996d00>,\n",
       " <__main__.Question at 0x11c996d90>,\n",
       " <__main__.Question at 0x11c996e20>,\n",
       " <__main__.Question at 0x11c996eb0>,\n",
       " <__main__.Question at 0x11c996f40>,\n",
       " <__main__.Question at 0x11c9a0040>,\n",
       " <__main__.Question at 0x11c9a00a0>,\n",
       " <__main__.Question at 0x11c9a0130>,\n",
       " <__main__.Question at 0x11c9a01c0>,\n",
       " <__main__.Question at 0x11c9a0250>,\n",
       " <__main__.Question at 0x11c9a02e0>,\n",
       " <__main__.Question at 0x11c9a0370>,\n",
       " <__main__.Question at 0x11c9a0400>,\n",
       " <__main__.Question at 0x11c9a0490>,\n",
       " <__main__.Question at 0x11c9a0520>,\n",
       " <__main__.Question at 0x11c9a05b0>,\n",
       " <__main__.Question at 0x11c9a0640>,\n",
       " <__main__.Question at 0x11c9a06d0>,\n",
       " <__main__.Question at 0x11c9a0760>,\n",
       " <__main__.Question at 0x11c9a07f0>,\n",
       " <__main__.Question at 0x11c9a0880>,\n",
       " <__main__.Question at 0x11c9a0910>,\n",
       " <__main__.Question at 0x11c9a09a0>,\n",
       " <__main__.Question at 0x11c9a0a30>,\n",
       " <__main__.Question at 0x11c9a0ac0>,\n",
       " <__main__.Question at 0x11c9a0b50>,\n",
       " <__main__.Question at 0x11c9a0be0>,\n",
       " <__main__.Question at 0x11c9a0c70>,\n",
       " <__main__.Question at 0x11c9a0d00>,\n",
       " <__main__.Question at 0x11c9a0d90>,\n",
       " <__main__.Question at 0x11c9a0e20>,\n",
       " <__main__.Question at 0x11c9a0eb0>,\n",
       " <__main__.Question at 0x11c9a0f40>,\n",
       " <__main__.Question at 0x11c9a9040>,\n",
       " <__main__.Question at 0x11c9a90a0>,\n",
       " <__main__.Question at 0x11c9a9130>,\n",
       " <__main__.Question at 0x11c9a91c0>,\n",
       " <__main__.Question at 0x11c9a9250>,\n",
       " <__main__.Question at 0x11c9a92e0>,\n",
       " <__main__.Question at 0x11c9a9370>,\n",
       " <__main__.Question at 0x11c9a9400>,\n",
       " <__main__.Question at 0x11c9a9490>,\n",
       " <__main__.Question at 0x11c9a9520>,\n",
       " <__main__.Question at 0x11c9a95b0>,\n",
       " <__main__.Question at 0x11c9a9640>,\n",
       " <__main__.Question at 0x11c9a96d0>,\n",
       " <__main__.Question at 0x11c9a9760>,\n",
       " <__main__.Question at 0x11c9a97f0>,\n",
       " <__main__.Question at 0x11c9a9880>,\n",
       " <__main__.Question at 0x11c9a9910>,\n",
       " <__main__.Question at 0x11c9a99a0>,\n",
       " <__main__.Question at 0x11c9a9a30>,\n",
       " <__main__.Question at 0x11c9a9ac0>,\n",
       " <__main__.Question at 0x11c9a9b50>,\n",
       " <__main__.Question at 0x11c9a9be0>,\n",
       " <__main__.Question at 0x11c9a9c70>,\n",
       " <__main__.Question at 0x11c9a9d00>,\n",
       " <__main__.Question at 0x11c9a9d90>,\n",
       " <__main__.Question at 0x11c9a9e20>,\n",
       " <__main__.Question at 0x11c9a9eb0>,\n",
       " <__main__.Question at 0x11c9a9f40>,\n",
       " <__main__.Question at 0x11c9b1040>,\n",
       " <__main__.Question at 0x11c9b10a0>,\n",
       " <__main__.Question at 0x11c9b1130>,\n",
       " <__main__.Question at 0x11c9b11c0>,\n",
       " <__main__.Question at 0x11c9b1250>,\n",
       " <__main__.Question at 0x11c9b12e0>,\n",
       " <__main__.Question at 0x11c9b1370>,\n",
       " <__main__.Question at 0x11c9b1400>,\n",
       " <__main__.Question at 0x11c9b1490>,\n",
       " <__main__.Question at 0x11c9b1520>,\n",
       " <__main__.Question at 0x11c9b15b0>,\n",
       " <__main__.Question at 0x11c9b1640>,\n",
       " <__main__.Question at 0x11c9b16d0>,\n",
       " <__main__.Question at 0x11c9b1760>,\n",
       " <__main__.Question at 0x11c9b17f0>,\n",
       " <__main__.Question at 0x11c9b1880>,\n",
       " <__main__.Question at 0x11c9b1910>,\n",
       " <__main__.Question at 0x11c9b19a0>,\n",
       " <__main__.Question at 0x11c9b1a30>,\n",
       " <__main__.Question at 0x11c9b1ac0>,\n",
       " <__main__.Question at 0x11c9b1b50>,\n",
       " <__main__.Question at 0x11c9b1be0>,\n",
       " <__main__.Question at 0x11c9b1c70>,\n",
       " <__main__.Question at 0x11c9b1d00>,\n",
       " <__main__.Question at 0x11c9b1d90>,\n",
       " <__main__.Question at 0x11c9b1e20>,\n",
       " <__main__.Question at 0x11c9b1eb0>]"
      ]
     },
     "execution_count": 6,
     "metadata": {},
     "output_type": "execute_result"
    }
   ],
   "source": [
    "db.query(Question).all()"
   ]
  },
  {
   "cell_type": "code",
   "execution_count": 7,
   "metadata": {},
   "outputs": [
    {
     "data": {
      "text/plain": [
       "[]"
      ]
     },
     "execution_count": 7,
     "metadata": {},
     "output_type": "execute_result"
    }
   ],
   "source": [
    "db.query(Question).filter(Question.id==1).all()"
   ]
  },
  {
   "cell_type": "code",
   "execution_count": 8,
   "metadata": {},
   "outputs": [],
   "source": [
    "db.query(Question).get(1)"
   ]
  },
  {
   "cell_type": "code",
   "execution_count": null,
   "metadata": {},
   "outputs": [],
   "source": [
    "db.query(Question).filter(Question.subject.like('%FastAPI%')).all()"
   ]
  },
  {
   "cell_type": "code",
   "execution_count": 9,
   "metadata": {},
   "outputs": [
    {
     "data": {
      "text/plain": [
       "'id는 자동으로 생성되나요?'"
      ]
     },
     "execution_count": 9,
     "metadata": {},
     "output_type": "execute_result"
    }
   ],
   "source": [
    "q = db.query(Question).get(2)\n",
    "q.content"
   ]
  },
  {
   "cell_type": "code",
   "execution_count": 22,
   "metadata": {},
   "outputs": [
    {
     "name": "stdout",
     "output_type": "stream",
     "text": [
      "2\n",
      "2\n",
      "2\n",
      "3\n",
      "306\n",
      "306\n",
      "None\n",
      "309\n",
      "310\n",
      "308\n",
      "306\n"
     ]
    }
   ],
   "source": [
    "for ans in db.query(Answer).all():\n",
    "    print(ans.question_id)"
   ]
  },
  {
   "cell_type": "code",
   "execution_count": 55,
   "metadata": {},
   "outputs": [],
   "source": [
    "from sqlalchemy import desc\n",
    "\n",
    "q = db.query(Answer).filter(Answer.question_id == 306).order_by(Answer.voter)\n"
   ]
  },
  {
   "cell_type": "code",
   "execution_count": null,
   "metadata": {},
   "outputs": [],
   "source": [
    "from sqlalchemy import desc\n",
    "for i in db.query(Answer).filter(Answer.question_id == 306).order_by(desc(Answer.voter)):\n",
    "    print(i.content)"
   ]
  },
  {
   "cell_type": "code",
   "execution_count": 97,
   "metadata": {},
   "outputs": [
    {
     "name": "stdout",
     "output_type": "stream",
     "text": [
      "[<__main__.Answer object at 0x11c614250>, <__main__.Answer object at 0x11c6142b0>, <__main__.Answer object at 0x11c6144c0>]\n"
     ]
    }
   ],
   "source": [
    "answers = db.query(Answer).filter(Answer.question_id == 306).all()\n",
    "print(answers)"
   ]
  },
  {
   "cell_type": "code",
   "execution_count": 99,
   "metadata": {},
   "outputs": [
    {
     "data": {
      "text/plain": [
       "3"
      ]
     },
     "execution_count": 99,
     "metadata": {},
     "output_type": "execute_result"
    }
   ],
   "source": [
    "answers = db.query(Answer).filter(Answer.question_id == 306).distinct().count()\n",
    "answers"
   ]
  },
  {
   "cell_type": "code",
   "execution_count": 69,
   "metadata": {},
   "outputs": [],
   "source": [
    "answers = db.query(Question).get(306).answers\n",
    "sorted_answers = sorted(answers, key = lambda x : [len(x.voter), x.create_date], reverse=True)"
   ]
  },
  {
   "cell_type": "code",
   "execution_count": 70,
   "metadata": {},
   "outputs": [
    {
     "name": "stdout",
     "output_type": "stream",
     "text": [
      "2 2023-10-01 21:53:17.251011\n",
      "0 2023-10-06 16:07:31.878335\n",
      "0 2023-10-01 20:53:05.188373\n"
     ]
    }
   ],
   "source": [
    "for ans in sorted_answers:\n",
    "    print(len(ans.voter), ans.create_date)"
   ]
  },
  {
   "cell_type": "code",
   "execution_count": 78,
   "metadata": {},
   "outputs": [
    {
     "name": "stdout",
     "output_type": "stream",
     "text": [
      "Answer ID: 6, Voter Count: 2\n"
     ]
    }
   ],
   "source": [
    "from sqlalchemy import func, desc\n",
    "\n",
    "# voter의 수를 계산하고, 이를 기준으로 내림차순 정렬하여 쿼리를 작성\n",
    "query = (\n",
    "    db.query(Answer, func.count(User.id).label('voter_count'))\n",
    "    .join(User, Answer.voter)  # 'voters'는 Answer 모델의 관계 이름이어야 합니다.\n",
    "    .filter(Answer.question_id == 306)\n",
    "    .group_by(Answer.id)\n",
    "    .order_by(desc('voter_count'))\n",
    ")\n",
    "\n",
    "# 결과 실행 및 출력\n",
    "for answer, voter_count in query:\n",
    "    print(f'Answer ID: {answer.id}, Voter Count: {voter_count}')\n"
   ]
  },
  {
   "cell_type": "code",
   "execution_count": 92,
   "metadata": {},
   "outputs": [],
   "source": [
    "query = (\n",
    "    db.query(Answer, func.count(User.id).label('voter_count'))\n",
    "    .join(User, Answer.voter)  # 'voters'는 Answer 모델의 관계 이름이어야 합니다.\n",
    "    .filter(Answer.question_id == 306)\n",
    "    # .group_by(Answer.id)\n",
    "    .order_by(desc('voter_count'))\n",
    ")"
   ]
  },
  {
   "cell_type": "code",
   "execution_count": 93,
   "metadata": {},
   "outputs": [
    {
     "name": "stdout",
     "output_type": "stream",
     "text": [
      "Answer ID: 6, Voter Count: 2\n"
     ]
    }
   ],
   "source": [
    "# 결과 실행 및 출력\n",
    "for answer, voter_count in query:\n",
    "    print(f'Answer ID: {answer.id}, Voter Count: {voter_count}')"
   ]
  },
  {
   "cell_type": "code",
   "execution_count": null,
   "metadata": {},
   "outputs": [],
   "source": [
    "from sqlalchemy import func, desc\n",
    "\n",
    "db.query(Question, func.count(User))"
   ]
  },
  {
   "cell_type": "code",
   "execution_count": 41,
   "metadata": {},
   "outputs": [
    {
     "data": {
      "text/plain": [
       "<sqlalchemy.orm.query.Query at 0x11d6aef40>"
      ]
     },
     "execution_count": 41,
     "metadata": {},
     "output_type": "execute_result"
    }
   ],
   "source": [
    "db.query(Answer).filter(Answer.question_id == 2).order_by(Answer.voter)"
   ]
  },
  {
   "cell_type": "code",
   "execution_count": null,
   "metadata": {},
   "outputs": [],
   "source": [
    "db.query(Answer).filter(Answer.question_id == 2).order_by(Answer.voter)"
   ]
  },
  {
   "cell_type": "code",
   "execution_count": 4,
   "metadata": {},
   "outputs": [],
   "source": [
    "q.subject = \"FastAPI Model Question\"\n",
    "db.commit()"
   ]
  },
  {
   "cell_type": "code",
   "execution_count": 18,
   "metadata": {},
   "outputs": [
    {
     "data": {
      "text/plain": [
       "'FastAPI 모델 질문입니다.'"
      ]
     },
     "execution_count": 18,
     "metadata": {},
     "output_type": "execute_result"
    }
   ],
   "source": [
    "q = db.query(Question).get(2)\n",
    "q.subject"
   ]
  },
  {
   "cell_type": "code",
   "execution_count": 19,
   "metadata": {},
   "outputs": [],
   "source": [
    "q = db.query(Question).get(1)\n",
    "db.delete(q)\n",
    "db.commit()"
   ]
  },
  {
   "cell_type": "code",
   "execution_count": 20,
   "metadata": {},
   "outputs": [
    {
     "data": {
      "text/plain": [
       "[<__main__.Question at 0x10bc29730>]"
      ]
     },
     "execution_count": 20,
     "metadata": {},
     "output_type": "execute_result"
    }
   ],
   "source": [
    "db.query(Question).all()"
   ]
  },
  {
   "cell_type": "code",
   "execution_count": 10,
   "metadata": {},
   "outputs": [],
   "source": [
    "q = db.query(Question).get(2)\n",
    "a = Answer(question=q, content=\"네 자동으로 생성됩니다.\", create_date=datetime.now())\n",
    "db.add(a)\n",
    "db.commit()"
   ]
  },
  {
   "cell_type": "code",
   "execution_count": 11,
   "metadata": {},
   "outputs": [
    {
     "data": {
      "text/plain": [
       "<models.Question at 0x106e31ee0>"
      ]
     },
     "execution_count": 11,
     "metadata": {},
     "output_type": "execute_result"
    }
   ],
   "source": [
    "a.question"
   ]
  },
  {
   "cell_type": "code",
   "execution_count": 12,
   "metadata": {},
   "outputs": [
    {
     "data": {
      "text/plain": [
       "[<models.Answer at 0x106e159a0>]"
      ]
     },
     "execution_count": 12,
     "metadata": {},
     "output_type": "execute_result"
    }
   ],
   "source": [
    "q.answer"
   ]
  },
  {
   "cell_type": "code",
   "execution_count": 5,
   "metadata": {},
   "outputs": [],
   "source": [
    "for i in range(300):\n",
    "    q = Question(subject=\"test data : [%03d]\" % i, content=f\"content {i}\", create_date=datetime.now())\n",
    "    db.add(q)"
   ]
  },
  {
   "cell_type": "code",
   "execution_count": 6,
   "metadata": {},
   "outputs": [],
   "source": [
    "db.commit()"
   ]
  },
  {
   "cell_type": "code",
   "execution_count": 19,
   "metadata": {},
   "outputs": [],
   "source": [
    "db = SessionLocal()"
   ]
  },
  {
   "cell_type": "code",
   "execution_count": 3,
   "metadata": {},
   "outputs": [
    {
     "ename": "NameError",
     "evalue": "name 'db' is not defined",
     "output_type": "error",
     "traceback": [
      "\u001b[0;31m---------------------------------------------------------------------------\u001b[0m",
      "\u001b[0;31mNameError\u001b[0m                                 Traceback (most recent call last)",
      "\u001b[1;32m/Users/gangnahun/Desktop/mnc/fastapi_project/api/database/query_test.ipynb 셀 25\u001b[0m line \u001b[0;36m1\n\u001b[0;32m----> <a href='vscode-notebook-cell:/Users/gangnahun/Desktop/mnc/fastapi_project/api/database/query_test.ipynb#X33sZmlsZQ%3D%3D?line=0'>1</a>\u001b[0m db\u001b[39m.\u001b[39mquery(Question)\u001b[39m.\u001b[39mcount()\n",
      "\u001b[0;31mNameError\u001b[0m: name 'db' is not defined"
     ]
    }
   ],
   "source": [
    "db.query(Question).count()"
   ]
  },
  {
   "cell_type": "code",
   "execution_count": 21,
   "metadata": {},
   "outputs": [
    {
     "data": {
      "text/plain": [
       "8"
      ]
     },
     "execution_count": 21,
     "metadata": {},
     "output_type": "execute_result"
    }
   ],
   "source": [
    "db.query(Answer).count()"
   ]
  },
  {
   "cell_type": "code",
   "execution_count": 22,
   "metadata": {},
   "outputs": [
    {
     "data": {
      "text/plain": [
       "7"
      ]
     },
     "execution_count": 22,
     "metadata": {},
     "output_type": "execute_result"
    }
   ],
   "source": [
    "db.query(Question).join(Answer).count()"
   ]
  },
  {
   "cell_type": "code",
   "execution_count": 23,
   "metadata": {},
   "outputs": [
    {
     "data": {
      "text/plain": [
       "312"
      ]
     },
     "execution_count": 23,
     "metadata": {},
     "output_type": "execute_result"
    }
   ],
   "source": [
    "db.query(Question).outerjoin(Answer).count()"
   ]
  },
  {
   "cell_type": "code",
   "execution_count": 24,
   "metadata": {},
   "outputs": [
    {
     "data": {
      "text/plain": [
       "309"
      ]
     },
     "execution_count": 24,
     "metadata": {},
     "output_type": "execute_result"
    }
   ],
   "source": [
    "db.query(Question).outerjoin(Answer).distinct().count()"
   ]
  },
  {
   "cell_type": "code",
   "execution_count": 40,
   "metadata": {},
   "outputs": [
    {
     "data": {
      "text/plain": [
       "1"
      ]
     },
     "execution_count": 40,
     "metadata": {},
     "output_type": "execute_result"
    }
   ],
   "source": [
    "db.query(Question).outerjoin(Answer).filter(\n",
    "    Question.content.ilike(\"%파이썬%\") |\n",
    "    Answer.content.ilike(\"%파이썬%\")\n",
    ").distinct().count()"
   ]
  },
  {
   "cell_type": "code",
   "execution_count": 46,
   "metadata": {},
   "outputs": [
    {
     "data": {
      "text/plain": [
       "<sqlalchemy.sql.selectable.Subquery at 0x107fde640; anon_1>"
      ]
     },
     "execution_count": 46,
     "metadata": {},
     "output_type": "execute_result"
    }
   ],
   "source": [
    "db.query(Answer.question_id, Answer.content, User.username).outerjoin(User, Answer.user_id == User.id).subquery()"
   ]
  },
  {
   "cell_type": "code",
   "execution_count": 47,
   "metadata": {},
   "outputs": [],
   "source": [
    "sub_query = db.query(Answer.question_id, Answer.content, User.username) \\\n",
    ".outerjoin(User, Answer.user_id == User.id).subquery()"
   ]
  },
  {
   "cell_type": "code",
   "execution_count": 49,
   "metadata": {},
   "outputs": [
    {
     "data": {
      "text/plain": [
       "Column('question_id', Integer(), ForeignKey('question.id'), table=<anon_1>)"
      ]
     },
     "execution_count": 49,
     "metadata": {},
     "output_type": "execute_result"
    }
   ],
   "source": [
    "sub_query.c.question_id"
   ]
  },
  {
   "cell_type": "code",
   "execution_count": 51,
   "metadata": {},
   "outputs": [
    {
     "data": {
      "text/plain": [
       "0"
      ]
     },
     "execution_count": 51,
     "metadata": {},
     "output_type": "execute_result"
    }
   ],
   "source": [
    "db.query(Question).outerjoin(sub_query, sub_query.c.question_id == Question.id) \\\n",
    "    .filter(sub_query.c.content.ilike(\"%파이썬%\") | \n",
    "            sub_query.c.username.ilike(\"%파이썬%\")).distinct().count()"
   ]
  },
  {
   "cell_type": "code",
   "execution_count": 53,
   "metadata": {},
   "outputs": [
    {
     "data": {
      "text/plain": [
       "0"
      ]
     },
     "execution_count": 53,
     "metadata": {},
     "output_type": "execute_result"
    }
   ],
   "source": [
    "db.query(Question).outerjoin(sub_query, sub_query.c.question_id == Question.id) \\\n",
    "    .filter(sub_query.c.content.ilike('%파이썬%') |   # 답변내용\n",
    "           sub_query.c.username.ilike('%파이썬%')    # 답변작성자\n",
    "           ).distinct().count()"
   ]
  },
  {
   "cell_type": "code",
   "execution_count": null,
   "metadata": {},
   "outputs": [],
   "source": []
  }
 ],
 "metadata": {
  "kernelspec": {
   "display_name": "Python 3",
   "language": "python",
   "name": "python3"
  },
  "language_info": {
   "codemirror_mode": {
    "name": "ipython",
    "version": 3
   },
   "file_extension": ".py",
   "mimetype": "text/x-python",
   "name": "python",
   "nbconvert_exporter": "python",
   "pygments_lexer": "ipython3",
   "version": "3.9.12"
  },
  "orig_nbformat": 4
 },
 "nbformat": 4,
 "nbformat_minor": 2
}
